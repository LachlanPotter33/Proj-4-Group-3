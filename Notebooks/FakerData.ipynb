{
 "cells": [
  {
   "cell_type": "code",
   "execution_count": 2,
   "id": "1b922218-5aa6-47ee-9871-1a45383484e0",
   "metadata": {},
   "outputs": [
    {
     "ename": "ModuleNotFoundError",
     "evalue": "No module named 'faker'",
     "output_type": "error",
     "traceback": [
      "\u001b[1;31m---------------------------------------------------------------------------\u001b[0m",
      "\u001b[1;31mModuleNotFoundError\u001b[0m                       Traceback (most recent call last)",
      "Cell \u001b[1;32mIn[2], line 3\u001b[0m\n\u001b[0;32m      1\u001b[0m \u001b[38;5;28;01mimport\u001b[39;00m \u001b[38;5;21;01mnumpy\u001b[39;00m \u001b[38;5;28;01mas\u001b[39;00m \u001b[38;5;21;01mnp\u001b[39;00m\n\u001b[0;32m      2\u001b[0m \u001b[38;5;28;01mimport\u001b[39;00m \u001b[38;5;21;01mpandas\u001b[39;00m \u001b[38;5;28;01mas\u001b[39;00m \u001b[38;5;21;01mpd\u001b[39;00m\n\u001b[1;32m----> 3\u001b[0m \u001b[38;5;28;01mfrom\u001b[39;00m \u001b[38;5;21;01mfaker\u001b[39;00m \u001b[38;5;28;01mimport\u001b[39;00m Faker\n\u001b[0;32m      4\u001b[0m \u001b[38;5;66;03m# Initialize Faker\u001b[39;00m\n\u001b[0;32m      5\u001b[0m fake \u001b[38;5;241m=\u001b[39m Faker()\n",
      "\u001b[1;31mModuleNotFoundError\u001b[0m: No module named 'faker'"
     ]
    }
   ],
   "source": [
    "import numpy as np\n",
    "import pandas as pd\n",
    "from faker import Faker\n",
    "# Initialize Faker\n",
    "fake = Faker()\n",
    "# Set the number of samples\n",
    "num_samples = 10000\n",
    "# Generate dummy data\n",
    "data = {\n",
    "    \"Name\": [fake.name() for _ in range(num_samples)],\n",
    "    \"CreditScore\": np.random.randint(300, 850, num_samples),  # Credit scores typically range from 300 to 850\n",
    "    \"Income\": np.random.randint(20000, 200000, num_samples),  # Annual income ranging from $20,000 to $200,000\n",
    "    \"Age\": np.random.randint(18, 70, num_samples),  # Age between 18 and 70\n",
    "    \"LoanAmount\": np.random.randint(50000, 500000, num_samples),  # Loan amounts between $50,000 and $500,000\n",
    "    \"LoanApproved\": np.random.choice([0, 1], num_samples, p=[0.3, 0.7])  # Randomly approve loans with 70% probability\n",
    "}\n",
    "# Create a DataFrame\n",
    "df = pd.DataFrame(data)\n",
    "# Display the first few rows of the DataFrame\n",
    "print(df.head())"
   ]
  },
  {
   "cell_type": "code",
   "execution_count": null,
   "id": "4536bb33",
   "metadata": {},
   "outputs": [],
   "source": []
  }
 ],
 "metadata": {
  "kernelspec": {
   "display_name": "Python 3 (ipykernel)",
   "language": "python",
   "name": "python3"
  },
  "language_info": {
   "codemirror_mode": {
    "name": "ipython",
    "version": 3
   },
   "file_extension": ".py",
   "mimetype": "text/x-python",
   "name": "python",
   "nbconvert_exporter": "python",
   "pygments_lexer": "ipython3",
   "version": "3.11.5"
  }
 },
 "nbformat": 4,
 "nbformat_minor": 5
}
