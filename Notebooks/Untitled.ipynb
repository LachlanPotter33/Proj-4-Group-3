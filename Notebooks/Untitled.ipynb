{
 "cells": [
  {
   "cell_type": "code",
   "execution_count": null,
   "id": "9256bf29-e575-480c-9637-4349fb899af7",
   "metadata": {
    "tags": []
   },
   "outputs": [],
   "source": [
    "# Import the modules\n",
    "import numpy as np\n",
    "import pandas as pd\n",
    "from pathlib import Path\n",
    "from sklearn.cluster import KMeans\n",
    "from sklearn.metrics import confusion_matrix, classification_report\n",
    "from sklearn.model_selection import train_test_split\n",
    "from sklearn.preprocessing import StandardScaler"
   ]
  },
  {
   "cell_type": "code",
   "execution_count": null,
   "id": "3a71089b-61a1-49c3-abe9-94a7d297878a",
   "metadata": {
    "tags": []
   },
   "outputs": [],
   "source": [
    "# Read the CSV file from the Resources folder into a Pandas DataFrame\n",
    "\n",
    "# Specify the file path\n",
    "file_path = \"../Data/prosperLoanData.csv\""
   ]
  },
  {
   "cell_type": "code",
   "execution_count": null,
   "id": "c9bd8f66-ce81-4cfa-adfe-72767e8caa49",
   "metadata": {
    "tags": []
   },
   "outputs": [],
   "source": [
    "# Read the CSV file into a Pandas DataFrame\n",
    "Uncleaned_df = pd.read_csv(file_path)\n",
    "\n",
    "# Review the DataFrame\n",
    "\n",
    "Uncleaned_df.head()"
   ]
  },
  {
   "cell_type": "code",
   "execution_count": null,
   "id": "5e40d087-508c-452a-93d5-9aacd8a0169d",
   "metadata": {
    "tags": []
   },
   "outputs": [],
   "source": [
    "#Creating Credit Score ( Lowest + Highest credit score /2 )\n",
    "Uncleaned_df['Average Credit Score'] = (Uncleaned_df['CreditScoreRangeLower'] + Uncleaned_df['CreditScoreRangeUpper']) / 2"
   ]
  },
  {
   "cell_type": "code",
   "execution_count": null,
   "id": "7bddf360-f98d-46ed-bd7d-f5cadaa1ffa2",
   "metadata": {
    "tags": []
   },
   "outputs": [],
   "source": [
    "## CLEAN UP DATA \n"
   ]
  },
  {
   "cell_type": "code",
   "execution_count": null,
   "id": "f38c7c02-2ba2-4ed2-8dcb-15377c675337",
   "metadata": {
    "tags": []
   },
   "outputs": [],
   "source": [
    "#types of columns \n",
    "specific_columns = ['Term','ProsperRating (numeric)','Average Credit Score','BorrowerState','EmploymentStatus','IsBorrowerHomeowner','IncomeRange','StatedMonthlyIncome','EstimatedLoss','LP_GrossPrincipalLoss',\n",
    "'BorrowerRate','EmploymentStatusDuration','LoanMonthsSinceOrigination','MonthlyLoanPayment','RevolvingCreditBalance','LoanOriginalAmount','ProsperPrincipalBorrowed','ProsperPrincipalOutstanding','TotalProsperPaymentsBilled', 'OnTimeProsperPayments', 'TotalProsperLoans', 'PublicRecordsLast10Years']  \n",
    "\n",
    "\n"
   ]
  },
  {
   "cell_type": "code",
   "execution_count": null,
   "id": "268cf64a-6816-4b2a-a2f7-b52ee69c2b98",
   "metadata": {
    "tags": []
   },
   "outputs": [],
   "source": [
    "Uncleaned_df = Uncleaned_df[specific_columns].copy()\n",
    "Uncleaned_df.head()"
   ]
  },
  {
   "cell_type": "code",
   "execution_count": null,
   "id": "8a8121db",
   "metadata": {
    "tags": []
   },
   "outputs": [],
   "source": [
    "specific_columns_uncleaned_df = Uncleaned_df[specific_columns]\n",
    "specific_columns_uncleaned_df.head(10)"
   ]
  },
  {
   "cell_type": "code",
   "execution_count": null,
   "id": "fb56b67f-d15f-4771-bf45-82af681b1073",
   "metadata": {
    "tags": []
   },
   "outputs": [],
   "source": [
    "#changing data that is not a value to be NA\n",
    "specific_columns_uncleaned_df.replace(\"Not displayed\", pd.NA, inplace=True)\n",
    "\n",
    "specific_columns_uncleaned_df"
   ]
  },
  {
   "cell_type": "code",
   "execution_count": null,
   "id": "e79ebc02-b02c-4d69-87d0-a73425478064",
   "metadata": {
    "tags": []
   },
   "outputs": [],
   "source": [
    "#drop NaN's\n",
    "specific_columns_uncleaned_df.dropna()"
   ]
  },
  {
   "cell_type": "code",
   "execution_count": null,
   "id": "d3b96464",
   "metadata": {
    "tags": []
   },
   "outputs": [],
   "source": [
    "specific_columns_uncleaned_df.dtypes"
   ]
  },
  {
   "cell_type": "code",
   "execution_count": null,
   "id": "af4693c5",
   "metadata": {
    "tags": []
   },
   "outputs": [],
   "source": [
    "columns_to_scale = ['Term',\n",
    "                                   'ProsperRating (numeric)',\n",
    "                                    'Average Credit Score '\n",
    "                                   'RevolvingCreditBalance',\n",
    "                                   'BorrowerRate',\n",
    "                                   'EmploymentStatusDuration',\n",
    "                                   'LoanMonthsSinceOrigination',\n",
    "                                   'MonthlyLoanPayment',\n",
    "                                   'LoanOriginalAmount'\n",
    "]"
   ]
  },
  {
   "cell_type": "code",
   "execution_count": null,
   "id": "cabfcaf1",
   "metadata": {
    "tags": []
   },
   "outputs": [],
   "source": [
    "specific_columns_uncleaned_df = specific_columns_uncleaned_df.dropna(subset=columns_to_scale)\n"
   ]
  },
  {
   "cell_type": "code",
   "execution_count": null,
   "id": "92af3081",
   "metadata": {},
   "outputs": [],
   "source": [
    "scaler = StandardScaler()\n",
    "scaled_data = scaler.fit_transform(specific_columns_uncleaned_df[columns_to_scale])"
   ]
  },
  {
   "cell_type": "code",
   "execution_count": null,
   "id": "993dfc39",
   "metadata": {},
   "outputs": [],
   "source": [
    "scaled_df = pd.DataFrame(scaled_data, columns=columns_to_scale)"
   ]
  },
  {
   "cell_type": "code",
   "execution_count": null,
   "id": "00f1cac9",
   "metadata": {},
   "outputs": [],
   "source": [
    "specific_columns_uncleaned_df[columns_to_scale] = scaled_df"
   ]
  },
  {
   "cell_type": "code",
   "execution_count": null,
   "id": "4014038b",
   "metadata": {},
   "outputs": [],
   "source": [
    "clean_df = specific_columns_uncleaned_df\n",
    "clean_df.head()"
   ]
  },
  {
   "cell_type": "code",
   "execution_count": null,
   "id": "adc52ca5-e6a0-4d58-a15b-a41392c9dd94",
   "metadata": {},
   "outputs": [],
   "source": [
    "clean_df.dtypes\n"
   ]
  },
  {
   "cell_type": "code",
   "execution_count": null,
   "id": "99ab9859-64fe-4d7a-bd25-aae2e61010ce",
   "metadata": {},
   "outputs": [],
   "source": [
    "dummies = pd.get_dummies(clean_df[\"IncomeRange\"],dtype=int)\n",
    "dummies.head()"
   ]
  },
  {
   "cell_type": "code",
   "execution_count": null,
   "id": "6e7cc772",
   "metadata": {},
   "outputs": [],
   "source": []
  }
 ],
 "metadata": {
  "kernelspec": {
   "display_name": "Python 3 (ipykernel)",
   "language": "python",
   "name": "python3"
  },
  "language_info": {
   "codemirror_mode": {
    "name": "ipython",
    "version": 3
   },
   "file_extension": ".py",
   "mimetype": "text/x-python",
   "name": "python",
   "nbconvert_exporter": "python",
   "pygments_lexer": "ipython3",
   "version": "3.11.5"
  }
 },
 "nbformat": 4,
 "nbformat_minor": 5
}
